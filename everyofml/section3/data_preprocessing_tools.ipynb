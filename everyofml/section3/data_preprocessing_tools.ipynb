{
  "nbformat": 4,
  "nbformat_minor": 0,
  "metadata": {
    "colab": {
      "provenance": [],
      "include_colab_link": true
    },
    "kernelspec": {
      "name": "python3",
      "display_name": "Python 3"
    }
  },
  "cells": [
    {
      "cell_type": "markdown",
      "metadata": {
        "id": "view-in-github",
        "colab_type": "text"
      },
      "source": [
        "<a href=\"https://colab.research.google.com/github/middlefitting/ML_Study/blob/main/everyofml/section3/data_preprocessing_tools.ipynb\" target=\"_parent\"><img src=\"https://colab.research.google.com/assets/colab-badge.svg\" alt=\"Open In Colab\"/></a>"
      ]
    },
    {
      "cell_type": "markdown",
      "metadata": {
        "id": "37puETfgRzzg"
      },
      "source": [
        "# Data Preprocessing Tools"
      ]
    },
    {
      "cell_type": "markdown",
      "metadata": {
        "id": "EoRP98MpR-qj"
      },
      "source": [
        "## Importing the libraries"
      ]
    },
    {
      "cell_type": "code",
      "source": [
        "\"\"\"\n",
        "numpy: 배열을 가지고 작업\n",
        "pandas: 데이터 세트 뿐만 아니라 특정 행렬 및 종속 벡터 생성\n",
        "matplotlib: 차트를 보여준다\n",
        "\"\"\"\n",
        "import numpy as np\n",
        "import pandas as pd\n",
        "import matplotlib.pyplot as plt"
      ],
      "metadata": {
        "id": "C7l1As5qbCrg"
      },
      "execution_count": 154,
      "outputs": []
    },
    {
      "cell_type": "markdown",
      "metadata": {
        "id": "RopL7tUZSQkT"
      },
      "source": [
        "## Importing the dataset"
      ]
    },
    {
      "cell_type": "code",
      "source": [
        "# 데이터 셋 불러오기\n",
        "dataset = pd.read_csv('Data.csv')\n",
        "\n",
        "# 피쳐: 독립 변수, 종속 변수를 예측하는데 필요한 변수\n",
        "# 추출하고자 하는 행, 열의 인덱스를 받는다\n",
        "X = dataset.iloc[:, :-1].values\n",
        "\n",
        "# 종속 변수: 예측하고자 하는 것\n",
        "y = dataset.iloc[:, -1].values"
      ],
      "metadata": {
        "id": "7r2wFS3CcY2k"
      },
      "execution_count": 155,
      "outputs": []
    },
    {
      "cell_type": "code",
      "source": [
        "from google.colab import drive\n",
        "drive.mount('/content/drive')"
      ],
      "metadata": {
        "colab": {
          "base_uri": "https://localhost:8080/"
        },
        "id": "A50QT4P8dsVW",
        "outputId": "cf324181-1cf0-4414-a4ad-5f8927c45e1d"
      },
      "execution_count": 156,
      "outputs": [
        {
          "output_type": "stream",
          "name": "stdout",
          "text": [
            "Drive already mounted at /content/drive; to attempt to forcibly remount, call drive.mount(\"/content/drive\", force_remount=True).\n"
          ]
        }
      ]
    },
    {
      "cell_type": "code",
      "source": [
        "print(X)"
      ],
      "metadata": {
        "id": "aYGuwa6ke5o4",
        "colab": {
          "base_uri": "https://localhost:8080/"
        },
        "outputId": "2faa94b4-1863-4043-f9d2-9518ac3be5e4"
      },
      "execution_count": 157,
      "outputs": [
        {
          "output_type": "stream",
          "name": "stdout",
          "text": [
            "[['France' 44.0 72000.0]\n",
            " ['Spain' 27.0 48000.0]\n",
            " ['Germany' 30.0 54000.0]\n",
            " ['Spain' 38.0 61000.0]\n",
            " ['Germany' 40.0 nan]\n",
            " ['France' 35.0 58000.0]\n",
            " ['Spain' nan 52000.0]\n",
            " ['France' 48.0 79000.0]\n",
            " ['Germany' 50.0 83000.0]\n",
            " ['France' 37.0 67000.0]]\n"
          ]
        }
      ]
    },
    {
      "cell_type": "code",
      "source": [
        "print(y)"
      ],
      "metadata": {
        "id": "LmeB_Hrie7Hw",
        "colab": {
          "base_uri": "https://localhost:8080/"
        },
        "outputId": "c83fe53a-ec8a-4017-99dd-c9ebfc3c551b"
      },
      "execution_count": 158,
      "outputs": [
        {
          "output_type": "stream",
          "name": "stdout",
          "text": [
            "['No' 'Yes' 'No' 'No' 'Yes' 'Yes' 'No' 'Yes' 'No' 'Yes']\n"
          ]
        }
      ]
    },
    {
      "cell_type": "markdown",
      "source": [],
      "metadata": {
        "id": "OTnIop5KGFvn"
      }
    },
    {
      "cell_type": "markdown",
      "metadata": {
        "id": "nhfKXNxlSabC"
      },
      "source": [
        "## Taking care of missing data"
      ]
    },
    {
      "cell_type": "markdown",
      "source": [
        "결측치 처리방법\n",
        "- 무시하고 삭제하기: 데이터 셋이 클 때에는 상관없다.\n",
        "- 평균값으로 대치\n"
      ],
      "metadata": {
        "id": "PFnQNYo4m9Ps"
      }
    },
    {
      "cell_type": "code",
      "source": [
        "missing_data = dataset.isnull().sum()\n",
        "print(missing_data)"
      ],
      "metadata": {
        "colab": {
          "base_uri": "https://localhost:8080/"
        },
        "id": "BmmWKQy2gBQi",
        "outputId": "77db5ffb-16d6-40d0-b887-7ad3c5db13f6"
      },
      "execution_count": 159,
      "outputs": [
        {
          "output_type": "stream",
          "name": "stdout",
          "text": [
            "Country      0\n",
            "Age          1\n",
            "Salary       1\n",
            "Purchased    0\n",
            "dtype: int64\n"
          ]
        }
      ]
    },
    {
      "cell_type": "code",
      "source": [
        "# 사이킷런 가져오기\n",
        "from sklearn.impute import SimpleImputer\n",
        "\n",
        "# 인스턴스 생성\n",
        "# 대치할 값, 대치 전략\n",
        "imputer = SimpleImputer(missing_values=np.nan, strategy='mean')\n",
        "\n",
        "# fit: 결측값을 찾아 평균을 계산, 대치하는 것은 아니다\n",
        "imputer.fit(X[:, 1:3])\n",
        "\n",
        "# transform: 결측값을 대치\n",
        "X[:, 1:3] = imputer.transform(X[:, 1:3])"
      ],
      "metadata": {
        "id": "oqUwtW5cm5r-"
      },
      "execution_count": 160,
      "outputs": []
    },
    {
      "cell_type": "code",
      "source": [
        "print(X)"
      ],
      "metadata": {
        "colab": {
          "base_uri": "https://localhost:8080/"
        },
        "id": "tw9DZ_HMpRgA",
        "outputId": "b637be13-c68b-45a1-f998-7f76da6ad2d3"
      },
      "execution_count": 161,
      "outputs": [
        {
          "output_type": "stream",
          "name": "stdout",
          "text": [
            "[['France' 44.0 72000.0]\n",
            " ['Spain' 27.0 48000.0]\n",
            " ['Germany' 30.0 54000.0]\n",
            " ['Spain' 38.0 61000.0]\n",
            " ['Germany' 40.0 63777.77777777778]\n",
            " ['France' 35.0 58000.0]\n",
            " ['Spain' 38.77777777777778 52000.0]\n",
            " ['France' 48.0 79000.0]\n",
            " ['Germany' 50.0 83000.0]\n",
            " ['France' 37.0 67000.0]]\n"
          ]
        }
      ]
    },
    {
      "cell_type": "markdown",
      "metadata": {
        "id": "CriG6VzVSjcK"
      },
      "source": [
        "## Encoding categorical data"
      ]
    },
    {
      "cell_type": "code",
      "source": [
        "\"\"\"\n",
        "원핫 인코딩\n",
        "- 각 카테고리의 바이너리 벡터를 생성한다\n",
        "- 범주형 데이터를 처리하는데 있어 유용하다\n",
        "\n",
        "\"\"\""
      ],
      "metadata": {
        "colab": {
          "base_uri": "https://localhost:8080/",
          "height": 35
        },
        "id": "vrHduTSCeuFX",
        "outputId": "9a76f7bd-018b-4646-9837-561927cbbe4a"
      },
      "execution_count": 162,
      "outputs": [
        {
          "output_type": "execute_result",
          "data": {
            "text/plain": [
              "'\\n원핫 인코딩\\n- 각 카테고리의 바이너리 벡터를 생성한다\\n- 범주형 데이터를 처리하는데 있어 유용하다\\n\\n'"
            ],
            "application/vnd.google.colaboratory.intrinsic+json": {
              "type": "string"
            }
          },
          "metadata": {},
          "execution_count": 162
        }
      ]
    },
    {
      "cell_type": "markdown",
      "metadata": {
        "id": "AhSpdQWeSsFh"
      },
      "source": [
        "### Encoding the Independent Variable"
      ]
    },
    {
      "cell_type": "code",
      "source": [
        "from sklearn.compose import ColumnTransformer\n",
        "from sklearn.preprocessing import OneHotEncoder\n",
        "\n",
        "# 인자: 어떻게 변환하고 어떤 열 인덱스를 변환할지 명시하는 트랜스포머, 변환을 하지 않을 열 명시\n",
        "# ramainder='passthrough' 의미는 원핫인코딩 하지 않은 열들도 반환하라는 것이다\n",
        "ct = ColumnTransformer(transformers=[('encoder', OneHotEncoder(), [0])], remainder='passthrough')\n",
        "# 넘파이 배열을 반환하는 것이 아니라서 나중에 fit이라는 함수로 전달하려면 넘파이 배열로 변환해야 한다\n",
        "X = np.array(ct.fit_transform(X))\n",
        "print(X)\n"
      ],
      "metadata": {
        "colab": {
          "base_uri": "https://localhost:8080/"
        },
        "id": "2HFqmTC2prND",
        "outputId": "07496abb-01e1-4c69-97ee-a307b660a15e"
      },
      "execution_count": 163,
      "outputs": [
        {
          "output_type": "stream",
          "name": "stdout",
          "text": [
            "[[1.0 0.0 0.0 44.0 72000.0]\n",
            " [0.0 0.0 1.0 27.0 48000.0]\n",
            " [0.0 1.0 0.0 30.0 54000.0]\n",
            " [0.0 0.0 1.0 38.0 61000.0]\n",
            " [0.0 1.0 0.0 40.0 63777.77777777778]\n",
            " [1.0 0.0 0.0 35.0 58000.0]\n",
            " [0.0 0.0 1.0 38.77777777777778 52000.0]\n",
            " [1.0 0.0 0.0 48.0 79000.0]\n",
            " [0.0 1.0 0.0 50.0 83000.0]\n",
            " [1.0 0.0 0.0 37.0 67000.0]]\n"
          ]
        }
      ]
    },
    {
      "cell_type": "markdown",
      "metadata": {
        "id": "DXh8oVSITIc6"
      },
      "source": [
        "### Encoding the Dependent Variable"
      ]
    },
    {
      "cell_type": "code",
      "source": [
        "from sklearn.preprocessing import LabelEncoder\n",
        "\n",
        "# 이진 데이터의 경우 활용할 수 있는 옵션\n",
        "le = LabelEncoder()\n",
        "y = le.fit_transform(y)\n",
        "\n",
        "print(y)"
      ],
      "metadata": {
        "colab": {
          "base_uri": "https://localhost:8080/"
        },
        "id": "s64R79Qepv8N",
        "outputId": "748b3107-240e-4a4a-b1ab-6ff9472fd3f8"
      },
      "execution_count": 164,
      "outputs": [
        {
          "output_type": "stream",
          "name": "stdout",
          "text": [
            "[0 1 0 0 1 1 0 1 0 1]\n"
          ]
        }
      ]
    },
    {
      "cell_type": "markdown",
      "metadata": {
        "id": "qb_vcgm3qZKW"
      },
      "source": [
        "## Splitting the dataset into the Training set and Test set"
      ]
    },
    {
      "cell_type": "code",
      "source": [
        "\"\"\"\n",
        "데이터 분리 이후 피쳐 스케일링을 적용해야 한다.\n",
        "\n",
        "데이터 세트를 나눈다는 것은 관측치 성능 평가가 테스트 세트이다\n",
        "피쳐 스케일링은 모든 특성을 동일한 스케일로 변환할 뿐이다. 값이 작아서 머신 머닝 모델이 무시할 수 있는 내용을 처리해주는 것이다..\n",
        "\n",
        "단순히 테스트 세트가 머신러닝 모델을 평가하기 위한 녀석이어야 하고 훈련 세트와 인과관계가 없어야 한다.\n",
        "\n",
        "그런데 피쳐 스케일링은 특성의 평균과 표준편차를 사용하는 기법이다.\n",
        "따라서 테스트 세트를 나누기 전에 스케일링을 적용하면 표준편차를 사용하게 되어버리는 것이다\n",
        "\"\"\""
      ],
      "metadata": {
        "colab": {
          "base_uri": "https://localhost:8080/",
          "height": 105
        },
        "id": "KQarMwhfq-hL",
        "outputId": "1a9f9b78-defb-4668-ca4e-fc911495c1b5"
      },
      "execution_count": 165,
      "outputs": [
        {
          "output_type": "execute_result",
          "data": {
            "text/plain": [
              "'\\n데이터 분리 이후 피쳐 스케일링을 적용해야 한다.\\n\\n데이터 세트를 나눈다는 것은 관측치 성능 평가가 테스트 세트이다\\n피쳐 스케일링은 모든 특성을 동일한 스케일로 변환할 뿐이다. 값이 작아서 머신 머닝 모델이 무시할 수 있는 내용을 처리해주는 것이다..\\n\\n단순히 테스트 세트가 머신러닝 모델을 평가하기 위한 녀석이어야 하고 훈련 세트와 인과관계가 없어야 한다.\\n\\n그런데 피쳐 스케일링은 특성의 평균과 표준편차를 사용하는 기법이다.\\n따라서 테스트 세트를 나누기 전에 스케일링을 적용하면 표준편차를 사용하게 되어버리는 것이다\\n'"
            ],
            "application/vnd.google.colaboratory.intrinsic+json": {
              "type": "string"
            }
          },
          "metadata": {},
          "execution_count": 165
        }
      ]
    },
    {
      "cell_type": "code",
      "source": [
        "from sklearn.model_selection import train_test_split\n",
        "\n",
        "# 동일한 결과를 보기 위해 시드를 고정\n",
        "X_train, X_test, y_train, y_test = train_test_split(X, y, test_size=0.2, random_state = 1)\n"
      ],
      "metadata": {
        "id": "73RIx3A_sGs7"
      },
      "execution_count": 166,
      "outputs": []
    },
    {
      "cell_type": "code",
      "source": [
        "print(X_train)"
      ],
      "metadata": {
        "colab": {
          "base_uri": "https://localhost:8080/"
        },
        "id": "ZIj9m7s2tL3F",
        "outputId": "f0605c67-c67a-4e6f-be7f-07381d4d2bae"
      },
      "execution_count": 167,
      "outputs": [
        {
          "output_type": "stream",
          "name": "stdout",
          "text": [
            "[[0.0 0.0 1.0 38.77777777777778 52000.0]\n",
            " [0.0 1.0 0.0 40.0 63777.77777777778]\n",
            " [1.0 0.0 0.0 44.0 72000.0]\n",
            " [0.0 0.0 1.0 38.0 61000.0]\n",
            " [0.0 0.0 1.0 27.0 48000.0]\n",
            " [1.0 0.0 0.0 48.0 79000.0]\n",
            " [0.0 1.0 0.0 50.0 83000.0]\n",
            " [1.0 0.0 0.0 35.0 58000.0]]\n"
          ]
        }
      ]
    },
    {
      "cell_type": "code",
      "source": [
        "print(X_test)"
      ],
      "metadata": {
        "colab": {
          "base_uri": "https://localhost:8080/"
        },
        "id": "tdLnYWTmtL_q",
        "outputId": "d4d52ea5-512c-4a5b-aabc-7749dfe31c96"
      },
      "execution_count": 168,
      "outputs": [
        {
          "output_type": "stream",
          "name": "stdout",
          "text": [
            "[[0.0 1.0 0.0 30.0 54000.0]\n",
            " [1.0 0.0 0.0 37.0 67000.0]]\n"
          ]
        }
      ]
    },
    {
      "cell_type": "code",
      "source": [
        "print(y_train)"
      ],
      "metadata": {
        "colab": {
          "base_uri": "https://localhost:8080/"
        },
        "id": "UEA-Osl3tMHT",
        "outputId": "e7cfd93f-6f5a-4263-b0d2-c4ce42af745c"
      },
      "execution_count": 169,
      "outputs": [
        {
          "output_type": "stream",
          "name": "stdout",
          "text": [
            "[0 1 0 0 1 1 0 1]\n"
          ]
        }
      ]
    },
    {
      "cell_type": "code",
      "source": [
        "print(y_test)"
      ],
      "metadata": {
        "colab": {
          "base_uri": "https://localhost:8080/"
        },
        "id": "vXZUuJcItMRM",
        "outputId": "31c4d6e8-2f07-4bba-ebb1-3b12ee6b3dc2"
      },
      "execution_count": 170,
      "outputs": [
        {
          "output_type": "stream",
          "name": "stdout",
          "text": [
            "[0 1]\n"
          ]
        }
      ]
    },
    {
      "cell_type": "markdown",
      "metadata": {
        "id": "TpGqbS4TqkIR"
      },
      "source": [
        "## Feature Scaling"
      ]
    },
    {
      "cell_type": "code",
      "source": [
        "\"\"\"\n",
        "이유: 특정 피쳐가 무시될 수 있기 때문이다. 값이 작은 피쳐는 피쳐 스케일링을 하지 않으면 모델에서 무시될 가능성이 크다\n",
        "\n",
        "방법\n",
        "- 표준화: 평균을 빼고 분산의 제곱근으로 나눈다 -> -3 ~ 3 으로 조정된다\n",
        "- 정규화: 최솟값을 빼고 최댓값에서 최솟값을 뺀 값으로 나눈다 -> 0 ~ 1로 조정된다\n",
        "\n",
        "무엇을 해야 하는가\n",
        "- 정규화: 대부분의 피쳐가 정규분포를 따른다면 정규화가 좋다\n",
        "- 표준화: 대부분 좋다\n",
        "- 결론: 표준화를 택하는 것이 권장된다. 항상 의미 있는 스케일링이 되기 때문이다.\n",
        "\n",
        "과정\n",
        "- 훈련 데이터의 평균과 표준편차를 구하고 훈련 및 테스트 셋에 적용한다.\n",
        "- 테스트 셋의 평균 및 표준편차 값을 사용하지 않게 주의한다.\n",
        "\"\"\""
      ],
      "metadata": {
        "colab": {
          "base_uri": "https://localhost:8080/",
          "height": 122
        },
        "id": "62U4Mc6m7yAZ",
        "outputId": "c851009c-03d7-4b89-98ce-a8657bfa7cdf"
      },
      "execution_count": 171,
      "outputs": [
        {
          "output_type": "execute_result",
          "data": {
            "text/plain": [
              "'\\n이유: 특정 피쳐가 무시될 수 있기 때문이다. 값이 작은 피쳐는 피쳐 스케일링을 하지 않으면 모델에서 무시될 가능성이 크다\\n\\n방법\\n- 표준화: 평균을 빼고 분산의 제곱근으로 나눈다 -> -3 ~ 3 으로 조정된다\\n- 정규화: 최솟값을 빼고 최댓값에서 최솟값을 뺀 값으로 나눈다 -> 0 ~ 1로 조정된다\\n\\n무엇을 해야 하는가\\n- 정규화: 대부분의 피쳐가 정규분포를 따른다면 정규화가 좋다\\n- 표준화: 대부분 좋다\\n- 결론: 표준화를 택하는 것이 권장된다. 항상 의미 있는 스케일링이 되기 때문이다.\\n\\n과정\\n- 훈련 데이터의 평균과 표준편차를 구하고 훈련 및 테스트 셋에 적용한다.\\n- 테스트 셋의 평균 및 표준편차 값을 사용하지 않게 주의한다.\\n'"
            ],
            "application/vnd.google.colaboratory.intrinsic+json": {
              "type": "string"
            }
          },
          "metadata": {},
          "execution_count": 171
        }
      ]
    },
    {
      "cell_type": "code",
      "source": [
        "from sklearn.preprocessing import StandardScaler\n",
        "\n",
        "# 파라미터는 필요없다. 자동으로 적용된다.\n",
        "sc = StandardScaler()\n",
        "\n",
        "# 특성 행렬에도 적용해야 하는가 -> No. 표준화의 목적은 모든 특성의 값을 변환하는 것인데 가변수는 이미 1과 0으로 구상되므로 의미없다\n",
        "# 오히려 성능이 떨어질 수 있다. 값이 달라지므로 의미가 사라진다\n",
        "# 숫자형 값에만 사용한다.\n",
        "# fit: 평균과 표준편차를 구한다, transform: 적용한다\n",
        "X_train[:, 3:] = sc.fit_transform(X_train[:, 3:])\n",
        "# 스케일러를 그대로 사용해야 하니까 다시 fit 하면 안된다\n",
        "X_test[:, 3:] = sc.transform(X_test[:, 3:])"
      ],
      "metadata": {
        "id": "3cJx7hzX9IyZ"
      },
      "execution_count": 172,
      "outputs": []
    },
    {
      "cell_type": "code",
      "source": [
        "print(X_train)"
      ],
      "metadata": {
        "colab": {
          "base_uri": "https://localhost:8080/"
        },
        "id": "kRuSQG2K_eXc",
        "outputId": "bc3301d5-190a-4bd6-fa92-a7663e6ac8c9"
      },
      "execution_count": 173,
      "outputs": [
        {
          "output_type": "stream",
          "name": "stdout",
          "text": [
            "[[0.0 0.0 1.0 -0.19159184384578545 -1.0781259408412425]\n",
            " [0.0 1.0 0.0 -0.014117293757057777 -0.07013167641635372]\n",
            " [1.0 0.0 0.0 0.566708506533324 0.633562432710455]\n",
            " [0.0 0.0 1.0 -0.30453019390224867 -0.30786617274297867]\n",
            " [0.0 0.0 1.0 -1.9018011447007988 -1.420463615551582]\n",
            " [1.0 0.0 0.0 1.1475343068237058 1.232653363453549]\n",
            " [0.0 1.0 0.0 1.4379472069688968 1.5749910381638885]\n",
            " [1.0 0.0 0.0 -0.7401495441200351 -0.5646194287757332]]\n"
          ]
        }
      ]
    },
    {
      "cell_type": "code",
      "source": [
        "print(X_test)"
      ],
      "metadata": {
        "colab": {
          "base_uri": "https://localhost:8080/"
        },
        "id": "KtFt9f1F_ejO",
        "outputId": "64ec129f-e8fa-4844-8cb4-043be0ad4efb"
      },
      "execution_count": 174,
      "outputs": [
        {
          "output_type": "stream",
          "name": "stdout",
          "text": [
            "[[0.0 1.0 0.0 -1.4661817944830124 -0.9069571034860727]\n",
            " [1.0 0.0 0.0 -0.44973664397484414 0.2056403393225306]]\n"
          ]
        }
      ]
    }
  ]
}